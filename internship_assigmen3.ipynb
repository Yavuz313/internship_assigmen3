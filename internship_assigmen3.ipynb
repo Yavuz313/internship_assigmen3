{
 "cells": [
  {
   "cell_type": "code",
   "execution_count": 3,
   "metadata": {},
   "outputs": [
    {
     "name": "stdout",
     "output_type": "stream",
     "text": [
      "\n",
      "Here is your Mad Libs story:\n",
      "\n",
      "In the world of data science, there was a funny data scientist named Mehmet. Mehmet loved to analyze algorithm data. One day, Mehmet developed a fast algorithm that could analyze. The results were so impressive that Mehmet let out a carefully cheer!\n"
     ]
    }
   ],
   "source": [
    "def mad_libs():\n",
    "    \n",
    "    story = (\"In the world of data science, there was a {adj1} data scientist named Mehmet. \"\n",
    "             \"Mehmet loved to analyze {noun} data. \"\n",
    "             \"One day, Mehmet developed a {adj2} algorithm that could {verb}. \"\n",
    "             \"The results were so impressive that Mehmet let out a {adverb} cheer!\")\n",
    "\n",
    "    \n",
    "    word_types = [\"first adjective (e.g., funny, smart, fast)\", \n",
    "                  \"noun (e.g., dataset, algorithm, model)\", \n",
    "                  \"second adjective (e.g., powerful, colorful, careful)\", \n",
    "                  \"verb (e.g., analyze, train, predict)\", \n",
    "                  \"adverb (e.g., quickly, carefully, excitedly)\"]\n",
    "\n",
    "    \n",
    "    user_words = {}\n",
    "\n",
    "   \n",
    "    for word in word_types:\n",
    "        user_words[word.split()[0]] = input(f\"Please enter a {word}: \")\n",
    "\n",
    "    \n",
    "    completed_story = story.format(\n",
    "        adj1=user_words[\"first\"],\n",
    "        noun=user_words[\"noun\"],\n",
    "        adj2=user_words[\"second\"],\n",
    "        verb=user_words[\"verb\"],\n",
    "        adverb=user_words[\"adverb\"]\n",
    "    )\n",
    "\n",
    "    print(\"\\nHere is your Mad Libs story:\\n\")\n",
    "    print(completed_story)\n",
    "\n",
    "\n",
    "mad_libs()\n"
   ]
  }
 ],
 "metadata": {
  "kernelspec": {
   "display_name": "Python 3",
   "language": "python",
   "name": "python3"
  },
  "language_info": {
   "codemirror_mode": {
    "name": "ipython",
    "version": 3
   },
   "file_extension": ".py",
   "mimetype": "text/x-python",
   "name": "python",
   "nbconvert_exporter": "python",
   "pygments_lexer": "ipython3",
   "version": "3.12.3"
  }
 },
 "nbformat": 4,
 "nbformat_minor": 2
}
